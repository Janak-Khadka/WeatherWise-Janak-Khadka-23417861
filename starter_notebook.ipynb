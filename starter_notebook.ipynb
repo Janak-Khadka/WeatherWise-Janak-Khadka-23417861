{
  "cells": [
    {
      "cell_type": "markdown",
      "metadata": {
        "id": "view-in-github",
        "colab_type": "text"
      },
      "source": [
        "<a href=\"https://colab.research.google.com/github/Janak-Khadka/WeatherWise-Janak-Khadka-23417861/blob/main/starter_notebook.ipynb\" target=\"_parent\"><img src=\"https://colab.research.google.com/assets/colab-badge.svg\" alt=\"Open In Colab\"/></a>"
      ]
    },
    {
      "cell_type": "markdown",
      "id": "72e78a05",
      "metadata": {
        "id": "72e78a05"
      },
      "source": [
        "# 🌦️ WeatherWise – Starter Notebook\n",
        "\n",
        "Welcome to your **WeatherWise** project notebook! This scaffold is designed to help you build your weather advisor app using Python, visualisations, and AI-enhanced development.\n",
        "\n",
        "---\n",
        "\n",
        "📄 **Full Assignment Specification**  \n",
        "See [`ASSIGNMENT.md`](ASSIGNMENT.md) or check the LMS for full details.\n",
        "\n",
        "📝 **Quick Refresher**  \n",
        "A one-page summary is available in [`resources/assignment-summary.md`](resources/assignment-summary.md).\n",
        "\n",
        "---\n",
        "\n",
        "🧠 **This Notebook Structure is Optional**  \n",
        "You’re encouraged to reorganise, rename sections, or remove scaffold cells if you prefer — as long as your final version meets the requirements.\n",
        "\n",
        "✅ You may delete this note before submission.\n",
        "\n"
      ]
    },
    {
      "cell_type": "markdown",
      "id": "fa8c7f6c",
      "metadata": {
        "id": "fa8c7f6c"
      },
      "source": [
        "## 🧰 Setup and Imports\n",
        "\n",
        "This section imports commonly used packages and installs any additional tools used in the project.\n",
        "\n",
        "- You may not need all of these unless you're using specific features (e.g. visualisations, advanced prompting).\n",
        "- The notebook assumes the following packages are **pre-installed** in the provided environment or installable via pip:\n",
        "  - `requests`, `matplotlib`, `pyinputplus`\n",
        "  - `fetch-my-weather` (for accessing weather data easily)\n",
        "  - `hands-on-ai` (for AI logging, comparisons, or prompting tools)\n",
        "\n",
        "If you're running this notebook in **Google Colab**, uncomment the following lines to install the required packages.\n"
      ]
    },
    {
      "cell_type": "code",
      "execution_count": null,
      "id": "70c3f3f1",
      "metadata": {
        "id": "70c3f3f1"
      },
      "outputs": [],
      "source": [
        "# 🧪 Optional packages — uncomment if needed in Colab or JupyterHub\n",
        "!pip install fetch-my-weather\n",
        "!pip install hands-on-ai\n"
      ]
    },
    {
      "cell_type": "code",
      "source": [
        "import os\n",
        "\n",
        "os.environ['HANDS_ON_AI_SERVER'] = 'http://ollama.serveur.au'\n",
        "os.environ['HANDS_ON_AI_MODEL'] = 'granite3.2'\n",
        "os.environ['HANDS_ON_AI_API_KEY'] = input('Enter your API key: ')"
      ],
      "metadata": {
        "id": "B2JKlJfrGgIb"
      },
      "id": "B2JKlJfrGgIb",
      "execution_count": null,
      "outputs": []
    },
    {
      "cell_type": "markdown",
      "id": "59ae7543",
      "metadata": {
        "id": "59ae7543"
      },
      "source": [
        "## 📦 Setup and Configuration\n",
        "Import required packages and setup environment."
      ]
    },
    {
      "cell_type": "code",
      "execution_count": null,
      "id": "f1dd051e",
      "metadata": {
        "id": "f1dd051e"
      },
      "outputs": [],
      "source": [
        "import requests\n",
        "import matplotlib.pyplot as plt\n",
        "import pyinputplus as pyip\n",
        "# ✅ Import after installing (if needed)\n",
        "from fetch_my_weather import get_weather\n",
        "from hands_on_ai.chat import get_response\n",
        "\n",
        "# Add any other setup code here"
      ]
    },
    {
      "cell_type": "markdown",
      "id": "f736ade3",
      "metadata": {
        "id": "f736ade3"
      },
      "source": [
        "## 🌤️ Weather Data Functions"
      ]
    },
    {
      "cell_type": "code",
      "execution_count": 4,
      "id": "7a2c7cd0",
      "metadata": {
        "id": "7a2c7cd0"
      },
      "outputs": [],
      "source": [
        "# 🌤️ Weather Data Functions\n",
        "\n",
        "class WeatherDataFetcher:\n",
        "    def __init__(self, api_key=\"fba5b82a63a4969258fd9954ecf8a781\"):\n",
        "        self.api_key = api_key\n",
        "        self.base_url = \"http://api.openweathermap.org/data/2.5\"\n",
        "\n",
        "    def get_weather_data(self, location, forecast_days=5):\n",
        "\n",
        "        try:\n",
        "            # Get current weather from OpenWeatherMap API\n",
        "            current_data = self._get_current_weather(location)\n",
        "\n",
        "            # Get forecast data from OpenWeatherMap API\n",
        "            forecast_data = self._get_forecast(location, forecast_days)\n",
        "\n",
        "            return {\n",
        "                'location': location,\n",
        "                'current': current_data,\n",
        "                'forecast': forecast_data,\n",
        "                'timestamp': datetime.now().isoformat()\n",
        "            }\n",
        "\n",
        "        except Exception as e:\n",
        "            print(f\"Error fetching weather data: {e}\")\n",
        "            # Return sample data if API fails\n",
        "            return self._get_sample_data(location, forecast_days)\n",
        "\n",
        "    def _get_current_weather(self, location):\n",
        "        \"\"\"Fetch current weather data from OpenWeatherMap API\"\"\"\n",
        "        try:\n",
        "            url = f\"{self.base_url}/weather\"\n",
        "            params = {\n",
        "                'q': location,\n",
        "                'appid': self.api_key,\n",
        "                'units': 'metric'\n",
        "            }\n",
        "\n",
        "            response = requests.get(url, params=params)\n",
        "            response.raise_for_status()\n",
        "            data = response.json()\n",
        "\n",
        "            return {\n",
        "                'temperature': data['main']['temp'],\n",
        "                'feels_like': data['main']['feels_like'],\n",
        "                'humidity': data['main']['humidity'],\n",
        "                'pressure': data['main']['pressure'],\n",
        "                'wind_speed': data['wind']['speed'],\n",
        "                'weather_main': data['weather'][0]['main'],\n",
        "                'weather_description': data['weather'][0]['description'],\n",
        "                'visibility': data.get('visibility', 'N/A'),\n",
        "                'timestamp': datetime.now().isoformat()\n",
        "            }\n",
        "\n",
        "        except Exception as e:\n",
        "            print(f\"API Error: {e}\")\n",
        "            return self._get_demo_current_weather()\n",
        "\n",
        "    def _get_forecast(self, location, days):\n",
        "        \"\"\"Fetch forecast data from OpenWeatherMap API\"\"\"\n",
        "        try:\n",
        "            url = f\"{self.base_url}/forecast\"\n",
        "            params = {\n",
        "                'q': location,\n",
        "                'appid': self.api_key,\n",
        "                'units': 'metric'\n",
        "            }\n",
        "\n",
        "            response = requests.get(url, params=params)\n",
        "            response.raise_for_status()\n",
        "            data = response.json()\n",
        "\n",
        "            forecast = []\n",
        "            for item in data['list'][:days * 8]:\n",
        "                forecast.append({\n",
        "                    'datetime': datetime.fromtimestamp(item['dt']).isoformat(),\n",
        "                    'temperature': item['main']['temp'],\n",
        "                    'feels_like': item['main']['feels_like'],\n",
        "                    'humidity': item['main']['humidity'],\n",
        "                    'weather_main': item['weather'][0]['main'],\n",
        "                    'weather_description': item['weather'][0]['description'],\n",
        "                    'wind_speed': item['wind']['speed'],\n",
        "                    'pop': item.get('pop', 0)\n",
        "                })\n",
        "\n",
        "            return forecast\n",
        "\n",
        "        except Exception as e:\n",
        "            print(f\"API Error: {e}\")\n",
        "            return self._get_demo_forecast(days)\n",
        "\n",
        "    def _get_demo_current_weather(self):\n",
        "        \"\"\"Provide demo data when API is unavailable\"\"\"\n",
        "        return {\n",
        "            'temperature': 22.5,\n",
        "            'feels_like': 24.1,\n",
        "            'humidity': 65,\n",
        "            'pressure': 1013,\n",
        "            'wind_speed': 3.5,\n",
        "            'weather_main': 'Clear',\n",
        "            'weather_description': 'clear sky',\n",
        "            'visibility': 10000,\n",
        "            'timestamp': datetime.now().isoformat()\n",
        "        }\n",
        "\n",
        "    def _get_demo_forecast(self, days):\n",
        "        \"\"\"Provide demo forecast data\"\"\"\n",
        "        forecast = []\n",
        "        base_time = datetime.now()\n",
        "\n",
        "        for i in range(days * 8):\n",
        "            forecast_time = base_time + timedelta(hours=i*3)\n",
        "            forecast.append({\n",
        "                'datetime': forecast_time.isoformat(),\n",
        "                'temperature': 20 + 5 * (i % 3),\n",
        "                'feels_like': 21 + 5 * (i % 3),\n",
        "                'humidity': 60 + 10 * (i % 2),\n",
        "                'weather_main': ['Clear', 'Clouds', 'Rain'][i % 3],\n",
        "                'weather_description': ['clear sky', 'few clouds', 'light rain'][i % 3],\n",
        "                'wind_speed': 2 + (i % 4),\n",
        "                'pop': min(0.9, i * 0.1)\n",
        "            })\n",
        "\n",
        "        return forecast\n",
        "\n",
        "    def _get_sample_data(self, location, days):\n",
        "        \"\"\"Fallback sample data\"\"\"\n",
        "        return {\n",
        "            'location': location,\n",
        "            'current': self._get_demo_current_weather(),\n",
        "            'forecast': self._get_demo_forecast(days),\n",
        "            'timestamp': datetime.now().isoformat()\n",
        "        }\n",
        "\n",
        "# Initialize the weather fetcher with your real API key\n",
        "weather_fetcher = WeatherDataFetcher(\"fba5b82a63a4969258fd9954ecf8a781\")"
      ]
    },
    {
      "cell_type": "markdown",
      "id": "8a744fdc",
      "metadata": {
        "id": "8a744fdc"
      },
      "source": [
        "## 📊 Visualisation Functions"
      ]
    },
    {
      "cell_type": "code",
      "execution_count": null,
      "id": "9dc3bf85",
      "metadata": {
        "id": "9dc3bf85"
      },
      "outputs": [],
      "source": [
        "# Define create_temperature_visualisation() and create_precipitation_visualisation() here\n",
        "def create_temperature_visualisation(weather_data, output_type='display'):\n",
        "    \"\"\"\n",
        "    Create visualisation of temperature data.\n",
        "\n",
        "    Args:\n",
        "        weather_data (dict): The processed weather data\n",
        "        output_type (str): Either 'display' to show in notebook or 'figure' to return the figure\n",
        "\n",
        "    Returns:\n",
        "        If output_type is 'figure', returns the matplotlib figure object\n",
        "        Otherwise, displays the visualisation in the notebook\n",
        "    \"\"\"\n",
        "    pass\n"
      ]
    },
    {
      "cell_type": "code",
      "source": [
        "\n",
        "def create_precipitation_visualisation(weather_data, output_type='display'):\n",
        "    \"\"\"\n",
        "    Create visualisation of precipitation data.\n",
        "\n",
        "    Args:\n",
        "        weather_data (dict): The processed weather data\n",
        "        output_type (str): Either 'display' to show in notebook or 'figure' to return the figure\n",
        "\n",
        "    Returns:\n",
        "        If output_type is 'figure', returns the matplotlib figure object\n",
        "        Otherwise, displays the visualisation in the notebook\n",
        "    \"\"\"\n",
        "    pass"
      ],
      "metadata": {
        "id": "HpOlQylYG5Ho"
      },
      "id": "HpOlQylYG5Ho",
      "execution_count": null,
      "outputs": []
    },
    {
      "cell_type": "markdown",
      "id": "9f95d160",
      "metadata": {
        "id": "9f95d160"
      },
      "source": [
        "## 🤖 Natural Language Processing"
      ]
    },
    {
      "cell_type": "code",
      "execution_count": null,
      "id": "bcc5833e",
      "metadata": {
        "id": "bcc5833e"
      },
      "outputs": [],
      "source": [
        "# Define parse_weather_question() and generate_weather_response() here\n",
        "def parse_weather_question(question):\n",
        "    \"\"\"\n",
        "    Parse a natural language weather question.\n",
        "\n",
        "    Args:\n",
        "        question (str): User's weather-related question\n",
        "\n",
        "    Returns:\n",
        "        dict: Extracted information including location, time period, and weather attribute\n",
        "    \"\"\"\n",
        "    pass"
      ]
    },
    {
      "cell_type": "markdown",
      "id": "0d85225e",
      "metadata": {
        "id": "0d85225e"
      },
      "source": [
        "## 🧭 User Interface"
      ]
    },
    {
      "cell_type": "code",
      "execution_count": null,
      "id": "fa6cb0f6",
      "metadata": {
        "id": "fa6cb0f6"
      },
      "outputs": [],
      "source": [
        "# Define menu functions using pyinputplus or ipywidgets here"
      ]
    },
    {
      "cell_type": "markdown",
      "id": "d643a53c",
      "metadata": {
        "id": "d643a53c"
      },
      "source": [
        "## 🧩 Main Application Logic"
      ]
    },
    {
      "cell_type": "code",
      "execution_count": null,
      "id": "a9e2e805",
      "metadata": {
        "id": "a9e2e805"
      },
      "outputs": [],
      "source": [
        "# Tie everything together here\n",
        "def generate_weather_response(parsed_question, weather_data):\n",
        "    \"\"\"\n",
        "    Generate a natural language response to a weather question.\n",
        "\n",
        "    Args:\n",
        "        parsed_question (dict): Parsed question data\n",
        "        weather_data (dict): Weather data\n",
        "\n",
        "    Returns:\n",
        "        str: Natural language response\n",
        "    \"\"\"\n",
        "    pass"
      ]
    },
    {
      "cell_type": "markdown",
      "id": "fde44479",
      "metadata": {
        "id": "fde44479"
      },
      "source": [
        "## 🧪 Testing and Examples"
      ]
    },
    {
      "cell_type": "code",
      "execution_count": null,
      "id": "4e573901",
      "metadata": {
        "id": "4e573901"
      },
      "outputs": [],
      "source": [
        "# Include sample input/output for each function"
      ]
    },
    {
      "cell_type": "markdown",
      "id": "d2885880",
      "metadata": {
        "id": "d2885880"
      },
      "source": [
        "## 🗂️ AI Prompting Log (Optional)\n",
        "Add markdown cells here summarising prompts used or link to AI conversations in the `ai-conversations/` folder."
      ]
    }
  ],
  "metadata": {
    "language_info": {
      "name": "python"
    },
    "colab": {
      "provenance": [],
      "include_colab_link": true
    },
    "kernelspec": {
      "name": "python3",
      "display_name": "Python 3"
    }
  },
  "nbformat": 4,
  "nbformat_minor": 5
}